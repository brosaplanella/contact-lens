{
 "cells": [
  {
   "cell_type": "code",
   "execution_count": 1,
   "metadata": {},
   "outputs": [],
   "source": [
    "import pybamm\n",
    "import numpy as np\n",
    "from src import ContactLens, Simulation, get_parameters"
   ]
  },
  {
   "cell_type": "code",
   "execution_count": 2,
   "metadata": {},
   "outputs": [],
   "source": [
    "model = ContactLens()"
   ]
  },
  {
   "cell_type": "code",
   "execution_count": 3,
   "metadata": {},
   "outputs": [],
   "source": [
    "param = get_parameters()\n",
    "param2 = get_parameters()\n",
    "param2.update(\n",
    "    {\n",
    "        \"Activation energy polimerisation [J.mol-1]\": 0,\n",
    "        \"Polimerisation constant\": 1.304 * np.exp(-17792 / (8.314 * 353.15)),\n",
    "    }\n",
    ")\n",
    "\n",
    "parameters = [param, param2]"
   ]
  },
  {
   "cell_type": "code",
   "execution_count": 4,
   "metadata": {},
   "outputs": [],
   "source": [
    "solutions = []\n",
    "for param in parameters:\n",
    "    sim = Simulation(model, parameter_values=param)\n",
    "    t = np.linspace(0, 300, 1000)\n",
    "    solution = sim.solve(t)\n",
    "    solutions.append(solution)"
   ]
  },
  {
   "cell_type": "code",
   "execution_count": 5,
   "metadata": {},
   "outputs": [
    {
     "data": {
      "application/vnd.jupyter.widget-view+json": {
       "model_id": "00ed946f218b4813a954b62d04054f00",
       "version_major": 2,
       "version_minor": 0
      },
      "text/plain": [
       "interactive(children=(FloatSlider(value=0.0, description='t', max=300.0, step=3.0), Output()), _dom_classes=('…"
      ]
     },
     "metadata": {},
     "output_type": "display_data"
    },
    {
     "data": {
      "text/plain": [
       "<pybamm.plotting.quick_plot.QuickPlot at 0x7f8487d7e640>"
      ]
     },
     "execution_count": 5,
     "metadata": {},
     "output_type": "execute_result"
    }
   ],
   "source": [
    "pybamm.dynamic_plot(\n",
    "    solutions,\n",
    "    output_variables=[\n",
    "        \"Temperature [K]\",\n",
    "        \"Degree of polimerisation\",\n",
    "        \"Rate of polimerisation [s-1]\",\n",
    "        \"Averaged temperature [K]\",\n",
    "        \"Averaged degree of polimerisation\",\n",
    "        \"Averaged rate of polimerisation [s-1]\"\n",
    "        # \"UV intensity [W.m-2]\",\n",
    "    ],\n",
    "    labels=[\n",
    "        \"temperature dependence\",\n",
    "        \"no temperature dependence\",\n",
    "    ]\n",
    ")"
   ]
  },
  {
   "cell_type": "code",
   "execution_count": null,
   "metadata": {},
   "outputs": [],
   "source": []
  }
 ],
 "metadata": {
  "kernelspec": {
   "display_name": "env",
   "language": "python",
   "name": "python3"
  },
  "language_info": {
   "codemirror_mode": {
    "name": "ipython",
    "version": 3
   },
   "file_extension": ".py",
   "mimetype": "text/x-python",
   "name": "python",
   "nbconvert_exporter": "python",
   "pygments_lexer": "ipython3",
   "version": "3.9.17"
  },
  "orig_nbformat": 4
 },
 "nbformat": 4,
 "nbformat_minor": 2
}
